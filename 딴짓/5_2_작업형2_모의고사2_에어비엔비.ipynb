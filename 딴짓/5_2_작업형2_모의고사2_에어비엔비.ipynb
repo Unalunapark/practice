{
  "nbformat": 4,
  "nbformat_minor": 0,
  "metadata": {
    "colab": {
      "provenance": [],
      "include_colab_link": true
    },
    "kernelspec": {
      "name": "python3",
      "display_name": "Python 3"
    },
    "language_info": {
      "name": "python"
    }
  },
  "cells": [
    {
      "cell_type": "markdown",
      "metadata": {
        "id": "view-in-github",
        "colab_type": "text"
      },
      "source": [
        "<a href=\"https://colab.research.google.com/github/Unalunapark/practice/blob/main/%EB%94%B4%EC%A7%93/5_2_%EC%9E%91%EC%97%85%ED%98%952_%EB%AA%A8%EC%9D%98%EA%B3%A0%EC%82%AC2_%EC%97%90%EC%96%B4%EB%B9%84%EC%97%94%EB%B9%84.ipynb\" target=\"_parent\"><img src=\"https://colab.research.google.com/assets/colab-badge.svg\" alt=\"Open In Colab\"/></a>"
      ]
    },
    {
      "cell_type": "markdown",
      "source": [
        "## 에어비엔비 가격?\n",
        "- 평가: R-Squared, MAE, MSE, RMSE, RMSLE, MAPE\n",
        "- target : price(가격)\n",
        "- csv파일 생성 : 수험번호.csv (예시 아래 참조)\n",
        "~~~\n",
        "id,price\n",
        "34323697,238\n",
        "29927138,183\n",
        "120362,234\n",
        "~~~\n",
        "\n"
      ],
      "metadata": {
        "id": "k5Z7yULvzpsF"
      }
    },
    {
      "cell_type": "markdown",
      "source": [
        "## 데이터 불러오기"
      ],
      "metadata": {
        "id": "1qZteLJKC6or"
      }
    },
    {
      "cell_type": "code",
      "source": [
        "import pandas as pd\n",
        "test=pd.read_csv(\"https://raw.githubusercontent.com/Unalunapark/practice/main/abnyc/test.csv\")\n",
        "train=pd.read_csv(\"https://raw.githubusercontent.com/Unalunapark/practice/main/abnyc/train.csv\")\n",
        "ytest=pd.read_csv(\"https://raw.githubusercontent.com/Unalunapark/practice/main/abnyc/y_test.csv\")"
      ],
      "metadata": {
        "id": "TmEaGNGXvVSD"
      },
      "execution_count": 4,
      "outputs": []
    },
    {
      "cell_type": "code",
      "source": [
        "# import pandas as pd\n",
        "# test=pd.read_csv(\"/content/drive/MyDrive/데이터모음/딴짓/abnyc/test.csv\")\n",
        "# train=pd.read_csv(\"/content/drive/MyDrive/데이터모음/딴짓/abnyc/train.csv\")\n",
        "train.info() #price\n",
        "test.info()"
      ],
      "metadata": {
        "id": "79P4zcpB0CHw",
        "colab": {
          "base_uri": "https://localhost:8080/"
        },
        "outputId": "d31ce864-545f-4678-f313-672f626349a7"
      },
      "execution_count": 5,
      "outputs": [
        {
          "output_type": "stream",
          "name": "stdout",
          "text": [
            "<class 'pandas.core.frame.DataFrame'>\n",
            "RangeIndex: 39116 entries, 0 to 39115\n",
            "Data columns (total 16 columns):\n",
            " #   Column                          Non-Null Count  Dtype  \n",
            "---  ------                          --------------  -----  \n",
            " 0   id                              39116 non-null  int64  \n",
            " 1   name                            39102 non-null  object \n",
            " 2   host_id                         39116 non-null  int64  \n",
            " 3   host_name                       39100 non-null  object \n",
            " 4   neighbourhood_group             39116 non-null  object \n",
            " 5   neighbourhood                   39116 non-null  object \n",
            " 6   latitude                        39116 non-null  float64\n",
            " 7   longitude                       39116 non-null  float64\n",
            " 8   room_type                       39116 non-null  object \n",
            " 9   minimum_nights                  39116 non-null  int64  \n",
            " 10  number_of_reviews               39116 non-null  int64  \n",
            " 11  last_review                     31063 non-null  object \n",
            " 12  reviews_per_month               31063 non-null  float64\n",
            " 13  calculated_host_listings_count  39116 non-null  int64  \n",
            " 14  availability_365                39116 non-null  int64  \n",
            " 15  price                           39116 non-null  int64  \n",
            "dtypes: float64(3), int64(7), object(6)\n",
            "memory usage: 4.8+ MB\n",
            "<class 'pandas.core.frame.DataFrame'>\n",
            "RangeIndex: 9779 entries, 0 to 9778\n",
            "Data columns (total 15 columns):\n",
            " #   Column                          Non-Null Count  Dtype  \n",
            "---  ------                          --------------  -----  \n",
            " 0   id                              9779 non-null   int64  \n",
            " 1   name                            9777 non-null   object \n",
            " 2   host_id                         9779 non-null   int64  \n",
            " 3   host_name                       9774 non-null   object \n",
            " 4   neighbourhood_group             9779 non-null   object \n",
            " 5   neighbourhood                   9779 non-null   object \n",
            " 6   latitude                        9779 non-null   float64\n",
            " 7   longitude                       9779 non-null   float64\n",
            " 8   room_type                       9779 non-null   object \n",
            " 9   minimum_nights                  9779 non-null   int64  \n",
            " 10  number_of_reviews               9779 non-null   int64  \n",
            " 11  last_review                     7780 non-null   object \n",
            " 12  reviews_per_month               7780 non-null   float64\n",
            " 13  calculated_host_listings_count  9779 non-null   int64  \n",
            " 14  availability_365                9779 non-null   int64  \n",
            "dtypes: float64(3), int64(6), object(6)\n",
            "memory usage: 1.1+ MB\n"
          ]
        }
      ]
    },
    {
      "cell_type": "markdown",
      "source": [
        "##EDA"
      ],
      "metadata": {
        "id": "ziiQ-hrGqm5C"
      }
    },
    {
      "cell_type": "markdown",
      "source": [
        "## ! 문제 분석\n",
        "- 수치형\n",
        "- 문자형"
      ],
      "metadata": {
        "id": "1yQJpUf8AXAA"
      }
    },
    {
      "cell_type": "code",
      "source": [
        "ntrain=train.select_dtypes(exclude='object')\n",
        "ntest=test.select_dtypes(exclude='object')"
      ],
      "metadata": {
        "id": "MiZoCXbxAnf6"
      },
      "execution_count": 6,
      "outputs": []
    },
    {
      "cell_type": "code",
      "source": [
        "ntrain=ntrain.fillna(0)\n",
        "ntest=ntest.fillna(0)"
      ],
      "metadata": {
        "id": "ks7AqiGjA3AA"
      },
      "execution_count": 7,
      "outputs": []
    },
    {
      "cell_type": "code",
      "source": [
        "# ntrain.isnull().sum() #name, host_name, last_review, reviews_per_month"
      ],
      "metadata": {
        "id": "HrbG49RDXBXh",
        "colab": {
          "base_uri": "https://localhost:8080/"
        },
        "outputId": "1d02e3a1-176e-4c06-82c8-f0a67cbb9c5a"
      },
      "execution_count": 8,
      "outputs": [
        {
          "output_type": "execute_result",
          "data": {
            "text/plain": [
              "id                                0\n",
              "host_id                           0\n",
              "latitude                          0\n",
              "longitude                         0\n",
              "minimum_nights                    0\n",
              "number_of_reviews                 0\n",
              "reviews_per_month                 0\n",
              "calculated_host_listings_count    0\n",
              "availability_365                  0\n",
              "price                             0\n",
              "dtype: int64"
            ]
          },
          "metadata": {},
          "execution_count": 8
        }
      ]
    },
    {
      "cell_type": "code",
      "source": [
        "# ntest.isnull().sum() #name, host_name, last_review, reviews_per_month"
      ],
      "metadata": {
        "id": "Rk4hiVXHXBaD",
        "colab": {
          "base_uri": "https://localhost:8080/"
        },
        "outputId": "92a87a07-d584-48e8-880a-d9d19ffa06b6"
      },
      "execution_count": 9,
      "outputs": [
        {
          "output_type": "execute_result",
          "data": {
            "text/plain": [
              "id                                0\n",
              "host_id                           0\n",
              "latitude                          0\n",
              "longitude                         0\n",
              "minimum_nights                    0\n",
              "number_of_reviews                 0\n",
              "reviews_per_month                 0\n",
              "calculated_host_listings_count    0\n",
              "availability_365                  0\n",
              "dtype: int64"
            ]
          },
          "metadata": {},
          "execution_count": 9
        }
      ]
    },
    {
      "cell_type": "code",
      "source": [
        "# # help(pd.to_datetime)\n",
        "# train['last_review']=pd.to_datetime(train['last_review'])\n",
        "# test['ltas']\n",
        "# train['last_review'].info()"
      ],
      "metadata": {
        "id": "ldIf3r4996OH"
      },
      "execution_count": 10,
      "outputs": []
    },
    {
      "cell_type": "code",
      "source": [
        "#  **Handling various input formats**\n",
        "\n",
        "#     Assembling a datetime from multiple columns of a :class:`DataFrame`. The keys\n",
        "#     can be common abbreviations like ['year', 'month', 'day', 'minute', 'second',\n",
        "#     'ms', 'us', 'ns']) or plurals of the same\n",
        "\n",
        "#     >>> df = pd.DataFrame({'year': [2015, 2016],\n",
        "#     ...                    'month': [2, 3],\n",
        "#     ...                    'day': [4, 5]})\n",
        "#     >>> pd.to_datetime(df)\n",
        "#     0   2015-02-04\n",
        "#     1   2016-03-05\n",
        "#     dtype: datetime64[ns]\n"
      ],
      "metadata": {
        "id": "2nwcvYZw9wVn"
      },
      "execution_count": 11,
      "outputs": []
    },
    {
      "cell_type": "code",
      "source": [
        "# train['year']=train['last_review'].dt.year\n",
        "# train['month']=train['last_review'].dt.month\n",
        "# train['day']=train['last_review'].dt.day"
      ],
      "metadata": {
        "id": "U0aQR7U9--hX"
      },
      "execution_count": 12,
      "outputs": []
    },
    {
      "cell_type": "markdown",
      "source": [
        "## 데이터 전처리 & 피처엔지니어링"
      ],
      "metadata": {
        "id": "DiUkXUO16g-G"
      }
    },
    {
      "cell_type": "code",
      "source": [
        "df.dropna(subset=[[]])"
      ],
      "metadata": {
        "id": "rhgbW0_5y77B"
      },
      "execution_count": null,
      "outputs": []
    },
    {
      "cell_type": "code",
      "source": [
        "ntrain.describe()"
      ],
      "metadata": {
        "id": "LTt0bg85XHGI",
        "colab": {
          "base_uri": "https://localhost:8080/",
          "height": 320
        },
        "outputId": "aee90176-340c-4dc1-dbf3-1bbd7c2e0227"
      },
      "execution_count": 13,
      "outputs": [
        {
          "output_type": "execute_result",
          "data": {
            "text/plain": [
              "                 id       host_id      latitude     longitude  minimum_nights  \\\n",
              "count  3.911600e+04  3.911600e+04  39116.000000  39116.000000    39116.000000   \n",
              "mean   1.896669e+07  6.737070e+07     40.729054    -73.952084        7.022395   \n",
              "std    1.096743e+07  7.842425e+07      0.054451      0.046106       19.547706   \n",
              "min    2.539000e+03  2.438000e+03     40.499790    -74.244420        1.000000   \n",
              "25%    9.435824e+06  7.829861e+06     40.690250    -73.983060        1.000000   \n",
              "50%    1.961906e+07  3.050966e+07     40.723060    -73.955680        3.000000   \n",
              "75%    2.907327e+07  1.074344e+08     40.763130    -73.936017        5.000000   \n",
              "max    3.648724e+07  2.743213e+08     40.913060    -73.712990      999.000000   \n",
              "\n",
              "       number_of_reviews  reviews_per_month  calculated_host_listings_count  \\\n",
              "count       39116.000000       39116.000000                    39116.000000   \n",
              "mean           23.268509           1.090076                        7.206182   \n",
              "std            44.625410           1.598609                       33.100783   \n",
              "min             0.000000           0.000000                        1.000000   \n",
              "25%             1.000000           0.040000                        1.000000   \n",
              "50%             5.000000           0.370000                        1.000000   \n",
              "75%            23.000000           1.572500                        2.000000   \n",
              "max           607.000000          58.500000                      327.000000   \n",
              "\n",
              "       availability_365         price  \n",
              "count      39116.000000  39116.000000  \n",
              "mean         112.718478    153.057547  \n",
              "std          131.479798    248.758522  \n",
              "min            0.000000      0.000000  \n",
              "25%            0.000000     69.000000  \n",
              "50%           45.000000    105.000000  \n",
              "75%          225.000000    175.000000  \n",
              "max          365.000000  10000.000000  "
            ],
            "text/html": [
              "\n",
              "  <div id=\"df-727e1a2d-0f58-4590-a04d-074c824b7f95\" class=\"colab-df-container\">\n",
              "    <div>\n",
              "<style scoped>\n",
              "    .dataframe tbody tr th:only-of-type {\n",
              "        vertical-align: middle;\n",
              "    }\n",
              "\n",
              "    .dataframe tbody tr th {\n",
              "        vertical-align: top;\n",
              "    }\n",
              "\n",
              "    .dataframe thead th {\n",
              "        text-align: right;\n",
              "    }\n",
              "</style>\n",
              "<table border=\"1\" class=\"dataframe\">\n",
              "  <thead>\n",
              "    <tr style=\"text-align: right;\">\n",
              "      <th></th>\n",
              "      <th>id</th>\n",
              "      <th>host_id</th>\n",
              "      <th>latitude</th>\n",
              "      <th>longitude</th>\n",
              "      <th>minimum_nights</th>\n",
              "      <th>number_of_reviews</th>\n",
              "      <th>reviews_per_month</th>\n",
              "      <th>calculated_host_listings_count</th>\n",
              "      <th>availability_365</th>\n",
              "      <th>price</th>\n",
              "    </tr>\n",
              "  </thead>\n",
              "  <tbody>\n",
              "    <tr>\n",
              "      <th>count</th>\n",
              "      <td>3.911600e+04</td>\n",
              "      <td>3.911600e+04</td>\n",
              "      <td>39116.000000</td>\n",
              "      <td>39116.000000</td>\n",
              "      <td>39116.000000</td>\n",
              "      <td>39116.000000</td>\n",
              "      <td>39116.000000</td>\n",
              "      <td>39116.000000</td>\n",
              "      <td>39116.000000</td>\n",
              "      <td>39116.000000</td>\n",
              "    </tr>\n",
              "    <tr>\n",
              "      <th>mean</th>\n",
              "      <td>1.896669e+07</td>\n",
              "      <td>6.737070e+07</td>\n",
              "      <td>40.729054</td>\n",
              "      <td>-73.952084</td>\n",
              "      <td>7.022395</td>\n",
              "      <td>23.268509</td>\n",
              "      <td>1.090076</td>\n",
              "      <td>7.206182</td>\n",
              "      <td>112.718478</td>\n",
              "      <td>153.057547</td>\n",
              "    </tr>\n",
              "    <tr>\n",
              "      <th>std</th>\n",
              "      <td>1.096743e+07</td>\n",
              "      <td>7.842425e+07</td>\n",
              "      <td>0.054451</td>\n",
              "      <td>0.046106</td>\n",
              "      <td>19.547706</td>\n",
              "      <td>44.625410</td>\n",
              "      <td>1.598609</td>\n",
              "      <td>33.100783</td>\n",
              "      <td>131.479798</td>\n",
              "      <td>248.758522</td>\n",
              "    </tr>\n",
              "    <tr>\n",
              "      <th>min</th>\n",
              "      <td>2.539000e+03</td>\n",
              "      <td>2.438000e+03</td>\n",
              "      <td>40.499790</td>\n",
              "      <td>-74.244420</td>\n",
              "      <td>1.000000</td>\n",
              "      <td>0.000000</td>\n",
              "      <td>0.000000</td>\n",
              "      <td>1.000000</td>\n",
              "      <td>0.000000</td>\n",
              "      <td>0.000000</td>\n",
              "    </tr>\n",
              "    <tr>\n",
              "      <th>25%</th>\n",
              "      <td>9.435824e+06</td>\n",
              "      <td>7.829861e+06</td>\n",
              "      <td>40.690250</td>\n",
              "      <td>-73.983060</td>\n",
              "      <td>1.000000</td>\n",
              "      <td>1.000000</td>\n",
              "      <td>0.040000</td>\n",
              "      <td>1.000000</td>\n",
              "      <td>0.000000</td>\n",
              "      <td>69.000000</td>\n",
              "    </tr>\n",
              "    <tr>\n",
              "      <th>50%</th>\n",
              "      <td>1.961906e+07</td>\n",
              "      <td>3.050966e+07</td>\n",
              "      <td>40.723060</td>\n",
              "      <td>-73.955680</td>\n",
              "      <td>3.000000</td>\n",
              "      <td>5.000000</td>\n",
              "      <td>0.370000</td>\n",
              "      <td>1.000000</td>\n",
              "      <td>45.000000</td>\n",
              "      <td>105.000000</td>\n",
              "    </tr>\n",
              "    <tr>\n",
              "      <th>75%</th>\n",
              "      <td>2.907327e+07</td>\n",
              "      <td>1.074344e+08</td>\n",
              "      <td>40.763130</td>\n",
              "      <td>-73.936017</td>\n",
              "      <td>5.000000</td>\n",
              "      <td>23.000000</td>\n",
              "      <td>1.572500</td>\n",
              "      <td>2.000000</td>\n",
              "      <td>225.000000</td>\n",
              "      <td>175.000000</td>\n",
              "    </tr>\n",
              "    <tr>\n",
              "      <th>max</th>\n",
              "      <td>3.648724e+07</td>\n",
              "      <td>2.743213e+08</td>\n",
              "      <td>40.913060</td>\n",
              "      <td>-73.712990</td>\n",
              "      <td>999.000000</td>\n",
              "      <td>607.000000</td>\n",
              "      <td>58.500000</td>\n",
              "      <td>327.000000</td>\n",
              "      <td>365.000000</td>\n",
              "      <td>10000.000000</td>\n",
              "    </tr>\n",
              "  </tbody>\n",
              "</table>\n",
              "</div>\n",
              "    <div class=\"colab-df-buttons\">\n",
              "\n",
              "  <div class=\"colab-df-container\">\n",
              "    <button class=\"colab-df-convert\" onclick=\"convertToInteractive('df-727e1a2d-0f58-4590-a04d-074c824b7f95')\"\n",
              "            title=\"Convert this dataframe to an interactive table.\"\n",
              "            style=\"display:none;\">\n",
              "\n",
              "  <svg xmlns=\"http://www.w3.org/2000/svg\" height=\"24px\" viewBox=\"0 -960 960 960\">\n",
              "    <path d=\"M120-120v-720h720v720H120Zm60-500h600v-160H180v160Zm220 220h160v-160H400v160Zm0 220h160v-160H400v160ZM180-400h160v-160H180v160Zm440 0h160v-160H620v160ZM180-180h160v-160H180v160Zm440 0h160v-160H620v160Z\"/>\n",
              "  </svg>\n",
              "    </button>\n",
              "\n",
              "  <style>\n",
              "    .colab-df-container {\n",
              "      display:flex;\n",
              "      gap: 12px;\n",
              "    }\n",
              "\n",
              "    .colab-df-convert {\n",
              "      background-color: #E8F0FE;\n",
              "      border: none;\n",
              "      border-radius: 50%;\n",
              "      cursor: pointer;\n",
              "      display: none;\n",
              "      fill: #1967D2;\n",
              "      height: 32px;\n",
              "      padding: 0 0 0 0;\n",
              "      width: 32px;\n",
              "    }\n",
              "\n",
              "    .colab-df-convert:hover {\n",
              "      background-color: #E2EBFA;\n",
              "      box-shadow: 0px 1px 2px rgba(60, 64, 67, 0.3), 0px 1px 3px 1px rgba(60, 64, 67, 0.15);\n",
              "      fill: #174EA6;\n",
              "    }\n",
              "\n",
              "    .colab-df-buttons div {\n",
              "      margin-bottom: 4px;\n",
              "    }\n",
              "\n",
              "    [theme=dark] .colab-df-convert {\n",
              "      background-color: #3B4455;\n",
              "      fill: #D2E3FC;\n",
              "    }\n",
              "\n",
              "    [theme=dark] .colab-df-convert:hover {\n",
              "      background-color: #434B5C;\n",
              "      box-shadow: 0px 1px 3px 1px rgba(0, 0, 0, 0.15);\n",
              "      filter: drop-shadow(0px 1px 2px rgba(0, 0, 0, 0.3));\n",
              "      fill: #FFFFFF;\n",
              "    }\n",
              "  </style>\n",
              "\n",
              "    <script>\n",
              "      const buttonEl =\n",
              "        document.querySelector('#df-727e1a2d-0f58-4590-a04d-074c824b7f95 button.colab-df-convert');\n",
              "      buttonEl.style.display =\n",
              "        google.colab.kernel.accessAllowed ? 'block' : 'none';\n",
              "\n",
              "      async function convertToInteractive(key) {\n",
              "        const element = document.querySelector('#df-727e1a2d-0f58-4590-a04d-074c824b7f95');\n",
              "        const dataTable =\n",
              "          await google.colab.kernel.invokeFunction('convertToInteractive',\n",
              "                                                    [key], {});\n",
              "        if (!dataTable) return;\n",
              "\n",
              "        const docLinkHtml = 'Like what you see? Visit the ' +\n",
              "          '<a target=\"_blank\" href=https://colab.research.google.com/notebooks/data_table.ipynb>data table notebook</a>'\n",
              "          + ' to learn more about interactive tables.';\n",
              "        element.innerHTML = '';\n",
              "        dataTable['output_type'] = 'display_data';\n",
              "        await google.colab.output.renderOutput(dataTable, element);\n",
              "        const docLink = document.createElement('div');\n",
              "        docLink.innerHTML = docLinkHtml;\n",
              "        element.appendChild(docLink);\n",
              "      }\n",
              "    </script>\n",
              "  </div>\n",
              "\n",
              "\n",
              "<div id=\"df-e1090e3a-08dc-4198-adc2-baae5905f70c\">\n",
              "  <button class=\"colab-df-quickchart\" onclick=\"quickchart('df-e1090e3a-08dc-4198-adc2-baae5905f70c')\"\n",
              "            title=\"Suggest charts\"\n",
              "            style=\"display:none;\">\n",
              "\n",
              "<svg xmlns=\"http://www.w3.org/2000/svg\" height=\"24px\"viewBox=\"0 0 24 24\"\n",
              "     width=\"24px\">\n",
              "    <g>\n",
              "        <path d=\"M19 3H5c-1.1 0-2 .9-2 2v14c0 1.1.9 2 2 2h14c1.1 0 2-.9 2-2V5c0-1.1-.9-2-2-2zM9 17H7v-7h2v7zm4 0h-2V7h2v10zm4 0h-2v-4h2v4z\"/>\n",
              "    </g>\n",
              "</svg>\n",
              "  </button>\n",
              "\n",
              "<style>\n",
              "  .colab-df-quickchart {\n",
              "      --bg-color: #E8F0FE;\n",
              "      --fill-color: #1967D2;\n",
              "      --hover-bg-color: #E2EBFA;\n",
              "      --hover-fill-color: #174EA6;\n",
              "      --disabled-fill-color: #AAA;\n",
              "      --disabled-bg-color: #DDD;\n",
              "  }\n",
              "\n",
              "  [theme=dark] .colab-df-quickchart {\n",
              "      --bg-color: #3B4455;\n",
              "      --fill-color: #D2E3FC;\n",
              "      --hover-bg-color: #434B5C;\n",
              "      --hover-fill-color: #FFFFFF;\n",
              "      --disabled-bg-color: #3B4455;\n",
              "      --disabled-fill-color: #666;\n",
              "  }\n",
              "\n",
              "  .colab-df-quickchart {\n",
              "    background-color: var(--bg-color);\n",
              "    border: none;\n",
              "    border-radius: 50%;\n",
              "    cursor: pointer;\n",
              "    display: none;\n",
              "    fill: var(--fill-color);\n",
              "    height: 32px;\n",
              "    padding: 0;\n",
              "    width: 32px;\n",
              "  }\n",
              "\n",
              "  .colab-df-quickchart:hover {\n",
              "    background-color: var(--hover-bg-color);\n",
              "    box-shadow: 0 1px 2px rgba(60, 64, 67, 0.3), 0 1px 3px 1px rgba(60, 64, 67, 0.15);\n",
              "    fill: var(--button-hover-fill-color);\n",
              "  }\n",
              "\n",
              "  .colab-df-quickchart-complete:disabled,\n",
              "  .colab-df-quickchart-complete:disabled:hover {\n",
              "    background-color: var(--disabled-bg-color);\n",
              "    fill: var(--disabled-fill-color);\n",
              "    box-shadow: none;\n",
              "  }\n",
              "\n",
              "  .colab-df-spinner {\n",
              "    border: 2px solid var(--fill-color);\n",
              "    border-color: transparent;\n",
              "    border-bottom-color: var(--fill-color);\n",
              "    animation:\n",
              "      spin 1s steps(1) infinite;\n",
              "  }\n",
              "\n",
              "  @keyframes spin {\n",
              "    0% {\n",
              "      border-color: transparent;\n",
              "      border-bottom-color: var(--fill-color);\n",
              "      border-left-color: var(--fill-color);\n",
              "    }\n",
              "    20% {\n",
              "      border-color: transparent;\n",
              "      border-left-color: var(--fill-color);\n",
              "      border-top-color: var(--fill-color);\n",
              "    }\n",
              "    30% {\n",
              "      border-color: transparent;\n",
              "      border-left-color: var(--fill-color);\n",
              "      border-top-color: var(--fill-color);\n",
              "      border-right-color: var(--fill-color);\n",
              "    }\n",
              "    40% {\n",
              "      border-color: transparent;\n",
              "      border-right-color: var(--fill-color);\n",
              "      border-top-color: var(--fill-color);\n",
              "    }\n",
              "    60% {\n",
              "      border-color: transparent;\n",
              "      border-right-color: var(--fill-color);\n",
              "    }\n",
              "    80% {\n",
              "      border-color: transparent;\n",
              "      border-right-color: var(--fill-color);\n",
              "      border-bottom-color: var(--fill-color);\n",
              "    }\n",
              "    90% {\n",
              "      border-color: transparent;\n",
              "      border-bottom-color: var(--fill-color);\n",
              "    }\n",
              "  }\n",
              "</style>\n",
              "\n",
              "  <script>\n",
              "    async function quickchart(key) {\n",
              "      const quickchartButtonEl =\n",
              "        document.querySelector('#' + key + ' button');\n",
              "      quickchartButtonEl.disabled = true;  // To prevent multiple clicks.\n",
              "      quickchartButtonEl.classList.add('colab-df-spinner');\n",
              "      try {\n",
              "        const charts = await google.colab.kernel.invokeFunction(\n",
              "            'suggestCharts', [key], {});\n",
              "      } catch (error) {\n",
              "        console.error('Error during call to suggestCharts:', error);\n",
              "      }\n",
              "      quickchartButtonEl.classList.remove('colab-df-spinner');\n",
              "      quickchartButtonEl.classList.add('colab-df-quickchart-complete');\n",
              "    }\n",
              "    (() => {\n",
              "      let quickchartButtonEl =\n",
              "        document.querySelector('#df-e1090e3a-08dc-4198-adc2-baae5905f70c button');\n",
              "      quickchartButtonEl.style.display =\n",
              "        google.colab.kernel.accessAllowed ? 'block' : 'none';\n",
              "    })();\n",
              "  </script>\n",
              "</div>\n",
              "\n",
              "    </div>\n",
              "  </div>\n"
            ],
            "application/vnd.google.colaboratory.intrinsic+json": {
              "type": "dataframe",
              "summary": "{\n  \"name\": \"ntrain\",\n  \"rows\": 8,\n  \"fields\": [\n    {\n      \"column\": \"id\",\n      \"properties\": {\n        \"dtype\": \"number\",\n        \"std\": 13039323.628867349,\n        \"min\": 2539.0,\n        \"max\": 36487245.0,\n        \"num_unique_values\": 8,\n        \"samples\": [\n          18966691.705772575,\n          19619058.5,\n          39116.0\n        ],\n        \"semantic_type\": \"\",\n        \"description\": \"\"\n      }\n    },\n    {\n      \"column\": \"host_id\",\n      \"properties\": {\n        \"dtype\": \"number\",\n        \"std\": 91371154.76311618,\n        \"min\": 2438.0,\n        \"max\": 274321313.0,\n        \"num_unique_values\": 8,\n        \"samples\": [\n          67370698.11077309,\n          30509656.0,\n          39116.0\n        ],\n        \"semantic_type\": \"\",\n        \"description\": \"\"\n      }\n    },\n    {\n      \"column\": \"latitude\",\n      \"properties\": {\n        \"dtype\": \"number\",\n        \"std\": 13817.259064291444,\n        \"min\": 0.05445121617057377,\n        \"max\": 39116.0,\n        \"num_unique_values\": 8,\n        \"samples\": [\n          40.729053650935676,\n          40.72306,\n          39116.0\n        ],\n        \"semantic_type\": \"\",\n        \"description\": \"\"\n      }\n    },\n    {\n      \"column\": \"longitude\",\n      \"properties\": {\n        \"dtype\": \"number\",\n        \"std\": 13852.030798035203,\n        \"min\": -74.24441999999999,\n        \"max\": 39116.0,\n        \"num_unique_values\": 8,\n        \"samples\": [\n          -73.95208447489519,\n          -73.95568,\n          39116.0\n        ],\n        \"semantic_type\": \"\",\n        \"description\": \"\"\n      }\n    },\n    {\n      \"column\": \"minimum_nights\",\n      \"properties\": {\n        \"dtype\": \"number\",\n        \"std\": 13781.671844113282,\n        \"min\": 1.0,\n        \"max\": 39116.0,\n        \"num_unique_values\": 7,\n        \"samples\": [\n          39116.0,\n          7.022394927906739,\n          5.0\n        ],\n        \"semantic_type\": \"\",\n        \"description\": \"\"\n      }\n    },\n    {\n      \"column\": \"number_of_reviews\",\n      \"properties\": {\n        \"dtype\": \"number\",\n        \"std\": 13795.59970677688,\n        \"min\": 0.0,\n        \"max\": 39116.0,\n        \"num_unique_values\": 8,\n        \"samples\": [\n          23.268509050005115,\n          5.0,\n          39116.0\n        ],\n        \"semantic_type\": \"\",\n        \"description\": \"\"\n      }\n    },\n    {\n      \"column\": \"reviews_per_month\",\n      \"properties\": {\n        \"dtype\": \"number\",\n        \"std\": 13826.418567138879,\n        \"min\": 0.0,\n        \"max\": 39116.0,\n        \"num_unique_values\": 8,\n        \"samples\": [\n          1.0900761836588608,\n          0.37,\n          39116.0\n        ],\n        \"semantic_type\": \"\",\n        \"description\": \"\"\n      }\n    },\n    {\n      \"column\": \"calculated_host_listings_count\",\n      \"properties\": {\n        \"dtype\": \"number\",\n        \"std\": 13811.246665704242,\n        \"min\": 1.0,\n        \"max\": 39116.0,\n        \"num_unique_values\": 6,\n        \"samples\": [\n          39116.0,\n          7.206181613661928,\n          327.0\n        ],\n        \"semantic_type\": \"\",\n        \"description\": \"\"\n      }\n    },\n    {\n      \"column\": \"availability_365\",\n      \"properties\": {\n        \"dtype\": \"number\",\n        \"std\": 13785.734540484116,\n        \"min\": 0.0,\n        \"max\": 39116.0,\n        \"num_unique_values\": 7,\n        \"samples\": [\n          39116.0,\n          112.71847837202168,\n          225.0\n        ],\n        \"semantic_type\": \"\",\n        \"description\": \"\"\n      }\n    },\n    {\n      \"column\": \"price\",\n      \"properties\": {\n        \"dtype\": \"number\",\n        \"std\": 13728.77976215743,\n        \"min\": 0.0,\n        \"max\": 39116.0,\n        \"num_unique_values\": 8,\n        \"samples\": [\n          153.05754678392475,\n          105.0,\n          39116.0\n        ],\n        \"semantic_type\": \"\",\n        \"description\": \"\"\n      }\n    }\n  ]\n}"
            }
          },
          "metadata": {},
          "execution_count": 13
        }
      ]
    },
    {
      "cell_type": "code",
      "source": [
        "train['price'].describe()"
      ],
      "metadata": {
        "id": "2LBrRTC4XHIo",
        "colab": {
          "base_uri": "https://localhost:8080/"
        },
        "outputId": "ac2a1387-d6b0-4c12-91bf-a1a9fdfcf439"
      },
      "execution_count": 23,
      "outputs": [
        {
          "output_type": "execute_result",
          "data": {
            "text/plain": [
              "count    39116.000000\n",
              "mean       153.057547\n",
              "std        248.758522\n",
              "min          0.000000\n",
              "25%         69.000000\n",
              "50%        105.000000\n",
              "75%        175.000000\n",
              "max      10000.000000\n",
              "Name: price, dtype: float64"
            ]
          },
          "metadata": {},
          "execution_count": 23
        }
      ]
    },
    {
      "cell_type": "code",
      "source": [],
      "metadata": {
        "id": "YFK5yYcEXHLa"
      },
      "execution_count": 13,
      "outputs": []
    },
    {
      "cell_type": "code",
      "source": [],
      "metadata": {
        "id": "LhDmnkjeXHN_"
      },
      "execution_count": 13,
      "outputs": []
    },
    {
      "cell_type": "code",
      "source": [],
      "metadata": {
        "id": "dH7YtgZOXHQk"
      },
      "execution_count": 13,
      "outputs": []
    },
    {
      "cell_type": "code",
      "source": [],
      "metadata": {
        "id": "-VgRESe7aWSs"
      },
      "execution_count": 13,
      "outputs": []
    },
    {
      "cell_type": "code",
      "source": [],
      "metadata": {
        "id": "mtJREZqcaWY_"
      },
      "execution_count": 13,
      "outputs": []
    },
    {
      "cell_type": "markdown",
      "source": [
        "## 검증 데이터 분리"
      ],
      "metadata": {
        "id": "2wXHbPi9DEwb"
      }
    },
    {
      "cell_type": "code",
      "source": [
        "# import sklearn.model_selection\n",
        "# help(sklearn.model_selection.train_test_split)"
      ],
      "metadata": {
        "id": "_9QD7OBGBy_m"
      },
      "execution_count": 14,
      "outputs": []
    },
    {
      "cell_type": "code",
      "source": [
        "from sklearn.model_selection import train_test_split\n",
        "xtr, xval, ytr, yval=train_test_split(ntrain.drop('price',axis=1), ntrain['price'], test_size=0.1, random_state=2024)\n",
        "xtr.shape, xval.shape, ytr.shape, yval.shape"
      ],
      "metadata": {
        "id": "NLf2OsLc38wm",
        "colab": {
          "base_uri": "https://localhost:8080/"
        },
        "outputId": "fd9ce95c-2c09-4b2a-e1b6-85f9d0dbb91d"
      },
      "execution_count": 15,
      "outputs": [
        {
          "output_type": "execute_result",
          "data": {
            "text/plain": [
              "((35204, 9), (3912, 9), (35204,), (3912,))"
            ]
          },
          "metadata": {},
          "execution_count": 15
        }
      ]
    },
    {
      "cell_type": "code",
      "source": [
        "xtr.head()"
      ],
      "metadata": {
        "id": "cTr_t52X6w_Z",
        "colab": {
          "base_uri": "https://localhost:8080/",
          "height": 206
        },
        "outputId": "265583f5-34f1-4b08-cbe0-869d8bf88ecd"
      },
      "execution_count": 16,
      "outputs": [
        {
          "output_type": "execute_result",
          "data": {
            "text/plain": [
              "             id    host_id  latitude  longitude  minimum_nights  \\\n",
              "23954  18240963  114736959  40.57609  -73.98605               3   \n",
              "9008   28890908  192270861  40.81993  -73.94768               5   \n",
              "17282  10116220   51913826  40.72354  -73.99333               1   \n",
              "21083  21943047   29238030  40.71284  -73.94805               2   \n",
              "15725  11981509   25237492  40.84216  -73.94101              30   \n",
              "\n",
              "       number_of_reviews  reviews_per_month  calculated_host_listings_count  \\\n",
              "23954                 52               1.95                               6   \n",
              "9008                   1               0.19                               1   \n",
              "17282                  1               0.30                               8   \n",
              "21083                  3               0.20                               1   \n",
              "15725                  7               0.19                              34   \n",
              "\n",
              "       availability_365  \n",
              "23954               150  \n",
              "9008                  0  \n",
              "17282                 0  \n",
              "21083                 0  \n",
              "15725               322  "
            ],
            "text/html": [
              "\n",
              "  <div id=\"df-2bab7013-08d1-4436-934d-15a8c1784b27\" class=\"colab-df-container\">\n",
              "    <div>\n",
              "<style scoped>\n",
              "    .dataframe tbody tr th:only-of-type {\n",
              "        vertical-align: middle;\n",
              "    }\n",
              "\n",
              "    .dataframe tbody tr th {\n",
              "        vertical-align: top;\n",
              "    }\n",
              "\n",
              "    .dataframe thead th {\n",
              "        text-align: right;\n",
              "    }\n",
              "</style>\n",
              "<table border=\"1\" class=\"dataframe\">\n",
              "  <thead>\n",
              "    <tr style=\"text-align: right;\">\n",
              "      <th></th>\n",
              "      <th>id</th>\n",
              "      <th>host_id</th>\n",
              "      <th>latitude</th>\n",
              "      <th>longitude</th>\n",
              "      <th>minimum_nights</th>\n",
              "      <th>number_of_reviews</th>\n",
              "      <th>reviews_per_month</th>\n",
              "      <th>calculated_host_listings_count</th>\n",
              "      <th>availability_365</th>\n",
              "    </tr>\n",
              "  </thead>\n",
              "  <tbody>\n",
              "    <tr>\n",
              "      <th>23954</th>\n",
              "      <td>18240963</td>\n",
              "      <td>114736959</td>\n",
              "      <td>40.57609</td>\n",
              "      <td>-73.98605</td>\n",
              "      <td>3</td>\n",
              "      <td>52</td>\n",
              "      <td>1.95</td>\n",
              "      <td>6</td>\n",
              "      <td>150</td>\n",
              "    </tr>\n",
              "    <tr>\n",
              "      <th>9008</th>\n",
              "      <td>28890908</td>\n",
              "      <td>192270861</td>\n",
              "      <td>40.81993</td>\n",
              "      <td>-73.94768</td>\n",
              "      <td>5</td>\n",
              "      <td>1</td>\n",
              "      <td>0.19</td>\n",
              "      <td>1</td>\n",
              "      <td>0</td>\n",
              "    </tr>\n",
              "    <tr>\n",
              "      <th>17282</th>\n",
              "      <td>10116220</td>\n",
              "      <td>51913826</td>\n",
              "      <td>40.72354</td>\n",
              "      <td>-73.99333</td>\n",
              "      <td>1</td>\n",
              "      <td>1</td>\n",
              "      <td>0.30</td>\n",
              "      <td>8</td>\n",
              "      <td>0</td>\n",
              "    </tr>\n",
              "    <tr>\n",
              "      <th>21083</th>\n",
              "      <td>21943047</td>\n",
              "      <td>29238030</td>\n",
              "      <td>40.71284</td>\n",
              "      <td>-73.94805</td>\n",
              "      <td>2</td>\n",
              "      <td>3</td>\n",
              "      <td>0.20</td>\n",
              "      <td>1</td>\n",
              "      <td>0</td>\n",
              "    </tr>\n",
              "    <tr>\n",
              "      <th>15725</th>\n",
              "      <td>11981509</td>\n",
              "      <td>25237492</td>\n",
              "      <td>40.84216</td>\n",
              "      <td>-73.94101</td>\n",
              "      <td>30</td>\n",
              "      <td>7</td>\n",
              "      <td>0.19</td>\n",
              "      <td>34</td>\n",
              "      <td>322</td>\n",
              "    </tr>\n",
              "  </tbody>\n",
              "</table>\n",
              "</div>\n",
              "    <div class=\"colab-df-buttons\">\n",
              "\n",
              "  <div class=\"colab-df-container\">\n",
              "    <button class=\"colab-df-convert\" onclick=\"convertToInteractive('df-2bab7013-08d1-4436-934d-15a8c1784b27')\"\n",
              "            title=\"Convert this dataframe to an interactive table.\"\n",
              "            style=\"display:none;\">\n",
              "\n",
              "  <svg xmlns=\"http://www.w3.org/2000/svg\" height=\"24px\" viewBox=\"0 -960 960 960\">\n",
              "    <path d=\"M120-120v-720h720v720H120Zm60-500h600v-160H180v160Zm220 220h160v-160H400v160Zm0 220h160v-160H400v160ZM180-400h160v-160H180v160Zm440 0h160v-160H620v160ZM180-180h160v-160H180v160Zm440 0h160v-160H620v160Z\"/>\n",
              "  </svg>\n",
              "    </button>\n",
              "\n",
              "  <style>\n",
              "    .colab-df-container {\n",
              "      display:flex;\n",
              "      gap: 12px;\n",
              "    }\n",
              "\n",
              "    .colab-df-convert {\n",
              "      background-color: #E8F0FE;\n",
              "      border: none;\n",
              "      border-radius: 50%;\n",
              "      cursor: pointer;\n",
              "      display: none;\n",
              "      fill: #1967D2;\n",
              "      height: 32px;\n",
              "      padding: 0 0 0 0;\n",
              "      width: 32px;\n",
              "    }\n",
              "\n",
              "    .colab-df-convert:hover {\n",
              "      background-color: #E2EBFA;\n",
              "      box-shadow: 0px 1px 2px rgba(60, 64, 67, 0.3), 0px 1px 3px 1px rgba(60, 64, 67, 0.15);\n",
              "      fill: #174EA6;\n",
              "    }\n",
              "\n",
              "    .colab-df-buttons div {\n",
              "      margin-bottom: 4px;\n",
              "    }\n",
              "\n",
              "    [theme=dark] .colab-df-convert {\n",
              "      background-color: #3B4455;\n",
              "      fill: #D2E3FC;\n",
              "    }\n",
              "\n",
              "    [theme=dark] .colab-df-convert:hover {\n",
              "      background-color: #434B5C;\n",
              "      box-shadow: 0px 1px 3px 1px rgba(0, 0, 0, 0.15);\n",
              "      filter: drop-shadow(0px 1px 2px rgba(0, 0, 0, 0.3));\n",
              "      fill: #FFFFFF;\n",
              "    }\n",
              "  </style>\n",
              "\n",
              "    <script>\n",
              "      const buttonEl =\n",
              "        document.querySelector('#df-2bab7013-08d1-4436-934d-15a8c1784b27 button.colab-df-convert');\n",
              "      buttonEl.style.display =\n",
              "        google.colab.kernel.accessAllowed ? 'block' : 'none';\n",
              "\n",
              "      async function convertToInteractive(key) {\n",
              "        const element = document.querySelector('#df-2bab7013-08d1-4436-934d-15a8c1784b27');\n",
              "        const dataTable =\n",
              "          await google.colab.kernel.invokeFunction('convertToInteractive',\n",
              "                                                    [key], {});\n",
              "        if (!dataTable) return;\n",
              "\n",
              "        const docLinkHtml = 'Like what you see? Visit the ' +\n",
              "          '<a target=\"_blank\" href=https://colab.research.google.com/notebooks/data_table.ipynb>data table notebook</a>'\n",
              "          + ' to learn more about interactive tables.';\n",
              "        element.innerHTML = '';\n",
              "        dataTable['output_type'] = 'display_data';\n",
              "        await google.colab.output.renderOutput(dataTable, element);\n",
              "        const docLink = document.createElement('div');\n",
              "        docLink.innerHTML = docLinkHtml;\n",
              "        element.appendChild(docLink);\n",
              "      }\n",
              "    </script>\n",
              "  </div>\n",
              "\n",
              "\n",
              "<div id=\"df-b2ee6033-e4d0-4694-b9e5-eef80a2ceb26\">\n",
              "  <button class=\"colab-df-quickchart\" onclick=\"quickchart('df-b2ee6033-e4d0-4694-b9e5-eef80a2ceb26')\"\n",
              "            title=\"Suggest charts\"\n",
              "            style=\"display:none;\">\n",
              "\n",
              "<svg xmlns=\"http://www.w3.org/2000/svg\" height=\"24px\"viewBox=\"0 0 24 24\"\n",
              "     width=\"24px\">\n",
              "    <g>\n",
              "        <path d=\"M19 3H5c-1.1 0-2 .9-2 2v14c0 1.1.9 2 2 2h14c1.1 0 2-.9 2-2V5c0-1.1-.9-2-2-2zM9 17H7v-7h2v7zm4 0h-2V7h2v10zm4 0h-2v-4h2v4z\"/>\n",
              "    </g>\n",
              "</svg>\n",
              "  </button>\n",
              "\n",
              "<style>\n",
              "  .colab-df-quickchart {\n",
              "      --bg-color: #E8F0FE;\n",
              "      --fill-color: #1967D2;\n",
              "      --hover-bg-color: #E2EBFA;\n",
              "      --hover-fill-color: #174EA6;\n",
              "      --disabled-fill-color: #AAA;\n",
              "      --disabled-bg-color: #DDD;\n",
              "  }\n",
              "\n",
              "  [theme=dark] .colab-df-quickchart {\n",
              "      --bg-color: #3B4455;\n",
              "      --fill-color: #D2E3FC;\n",
              "      --hover-bg-color: #434B5C;\n",
              "      --hover-fill-color: #FFFFFF;\n",
              "      --disabled-bg-color: #3B4455;\n",
              "      --disabled-fill-color: #666;\n",
              "  }\n",
              "\n",
              "  .colab-df-quickchart {\n",
              "    background-color: var(--bg-color);\n",
              "    border: none;\n",
              "    border-radius: 50%;\n",
              "    cursor: pointer;\n",
              "    display: none;\n",
              "    fill: var(--fill-color);\n",
              "    height: 32px;\n",
              "    padding: 0;\n",
              "    width: 32px;\n",
              "  }\n",
              "\n",
              "  .colab-df-quickchart:hover {\n",
              "    background-color: var(--hover-bg-color);\n",
              "    box-shadow: 0 1px 2px rgba(60, 64, 67, 0.3), 0 1px 3px 1px rgba(60, 64, 67, 0.15);\n",
              "    fill: var(--button-hover-fill-color);\n",
              "  }\n",
              "\n",
              "  .colab-df-quickchart-complete:disabled,\n",
              "  .colab-df-quickchart-complete:disabled:hover {\n",
              "    background-color: var(--disabled-bg-color);\n",
              "    fill: var(--disabled-fill-color);\n",
              "    box-shadow: none;\n",
              "  }\n",
              "\n",
              "  .colab-df-spinner {\n",
              "    border: 2px solid var(--fill-color);\n",
              "    border-color: transparent;\n",
              "    border-bottom-color: var(--fill-color);\n",
              "    animation:\n",
              "      spin 1s steps(1) infinite;\n",
              "  }\n",
              "\n",
              "  @keyframes spin {\n",
              "    0% {\n",
              "      border-color: transparent;\n",
              "      border-bottom-color: var(--fill-color);\n",
              "      border-left-color: var(--fill-color);\n",
              "    }\n",
              "    20% {\n",
              "      border-color: transparent;\n",
              "      border-left-color: var(--fill-color);\n",
              "      border-top-color: var(--fill-color);\n",
              "    }\n",
              "    30% {\n",
              "      border-color: transparent;\n",
              "      border-left-color: var(--fill-color);\n",
              "      border-top-color: var(--fill-color);\n",
              "      border-right-color: var(--fill-color);\n",
              "    }\n",
              "    40% {\n",
              "      border-color: transparent;\n",
              "      border-right-color: var(--fill-color);\n",
              "      border-top-color: var(--fill-color);\n",
              "    }\n",
              "    60% {\n",
              "      border-color: transparent;\n",
              "      border-right-color: var(--fill-color);\n",
              "    }\n",
              "    80% {\n",
              "      border-color: transparent;\n",
              "      border-right-color: var(--fill-color);\n",
              "      border-bottom-color: var(--fill-color);\n",
              "    }\n",
              "    90% {\n",
              "      border-color: transparent;\n",
              "      border-bottom-color: var(--fill-color);\n",
              "    }\n",
              "  }\n",
              "</style>\n",
              "\n",
              "  <script>\n",
              "    async function quickchart(key) {\n",
              "      const quickchartButtonEl =\n",
              "        document.querySelector('#' + key + ' button');\n",
              "      quickchartButtonEl.disabled = true;  // To prevent multiple clicks.\n",
              "      quickchartButtonEl.classList.add('colab-df-spinner');\n",
              "      try {\n",
              "        const charts = await google.colab.kernel.invokeFunction(\n",
              "            'suggestCharts', [key], {});\n",
              "      } catch (error) {\n",
              "        console.error('Error during call to suggestCharts:', error);\n",
              "      }\n",
              "      quickchartButtonEl.classList.remove('colab-df-spinner');\n",
              "      quickchartButtonEl.classList.add('colab-df-quickchart-complete');\n",
              "    }\n",
              "    (() => {\n",
              "      let quickchartButtonEl =\n",
              "        document.querySelector('#df-b2ee6033-e4d0-4694-b9e5-eef80a2ceb26 button');\n",
              "      quickchartButtonEl.style.display =\n",
              "        google.colab.kernel.accessAllowed ? 'block' : 'none';\n",
              "    })();\n",
              "  </script>\n",
              "</div>\n",
              "\n",
              "    </div>\n",
              "  </div>\n"
            ],
            "application/vnd.google.colaboratory.intrinsic+json": {
              "type": "dataframe",
              "variable_name": "xtr",
              "summary": "{\n  \"name\": \"xtr\",\n  \"rows\": 35204,\n  \"fields\": [\n    {\n      \"column\": \"id\",\n      \"properties\": {\n        \"dtype\": \"number\",\n        \"std\": 10959168,\n        \"min\": 2539,\n        \"max\": 36485609,\n        \"num_unique_values\": 35204,\n        \"samples\": [\n          12173904,\n          8440352,\n          24121885\n        ],\n        \"semantic_type\": \"\",\n        \"description\": \"\"\n      }\n    },\n    {\n      \"column\": \"host_id\",\n      \"properties\": {\n        \"dtype\": \"number\",\n        \"std\": 78525743,\n        \"min\": 2438,\n        \"max\": 274321313,\n        \"num_unique_values\": 28045,\n        \"samples\": [\n          8305981,\n          233270180,\n          475916\n        ],\n        \"semantic_type\": \"\",\n        \"description\": \"\"\n      }\n    },\n    {\n      \"column\": \"latitude\",\n      \"properties\": {\n        \"dtype\": \"number\",\n        \"std\": 0.054463918895897204,\n        \"min\": 40.49979,\n        \"max\": 40.91306,\n        \"num_unique_values\": 16593,\n        \"samples\": [\n          40.63145,\n          40.71873,\n          40.64126\n        ],\n        \"semantic_type\": \"\",\n        \"description\": \"\"\n      }\n    },\n    {\n      \"column\": \"longitude\",\n      \"properties\": {\n        \"dtype\": \"number\",\n        \"std\": 0.04620852574665053,\n        \"min\": -74.24441999999999,\n        \"max\": -73.71299,\n        \"num_unique_values\": 13088,\n        \"samples\": [\n          -73.98174,\n          -73.99105,\n          -73.96795\n        ],\n        \"semantic_type\": \"\",\n        \"description\": \"\"\n      }\n    },\n    {\n      \"column\": \"minimum_nights\",\n      \"properties\": {\n        \"dtype\": \"number\",\n        \"std\": 18,\n        \"min\": 1,\n        \"max\": 999,\n        \"num_unique_values\": 91,\n        \"samples\": [\n          16,\n          180,\n          183\n        ],\n        \"semantic_type\": \"\",\n        \"description\": \"\"\n      }\n    },\n    {\n      \"column\": \"number_of_reviews\",\n      \"properties\": {\n        \"dtype\": \"number\",\n        \"std\": 44,\n        \"min\": 0,\n        \"max\": 607,\n        \"num_unique_values\": 366,\n        \"samples\": [\n          182,\n          169,\n          103\n        ],\n        \"semantic_type\": \"\",\n        \"description\": \"\"\n      }\n    },\n    {\n      \"column\": \"reviews_per_month\",\n      \"properties\": {\n        \"dtype\": \"number\",\n        \"std\": 1.5973324976776209,\n        \"min\": 0.0,\n        \"max\": 58.5,\n        \"num_unique_values\": 885,\n        \"samples\": [\n          0.09,\n          3.16,\n          4.74\n        ],\n        \"semantic_type\": \"\",\n        \"description\": \"\"\n      }\n    },\n    {\n      \"column\": \"calculated_host_listings_count\",\n      \"properties\": {\n        \"dtype\": \"number\",\n        \"std\": 32,\n        \"min\": 1,\n        \"max\": 327,\n        \"num_unique_values\": 47,\n        \"samples\": [\n          49,\n          50,\n          18\n        ],\n        \"semantic_type\": \"\",\n        \"description\": \"\"\n      }\n    },\n    {\n      \"column\": \"availability_365\",\n      \"properties\": {\n        \"dtype\": \"number\",\n        \"std\": 131,\n        \"min\": 0,\n        \"max\": 365,\n        \"num_unique_values\": 366,\n        \"samples\": [\n          184,\n          134,\n          17\n        ],\n        \"semantic_type\": \"\",\n        \"description\": \"\"\n      }\n    }\n  ]\n}"
            }
          },
          "metadata": {},
          "execution_count": 16
        }
      ]
    },
    {
      "cell_type": "code",
      "source": [
        "xval.head()"
      ],
      "metadata": {
        "id": "hAYj6FLQCVCo",
        "outputId": "f6c49cd8-8150-40a0-cc60-8e4f0ffdaedb",
        "colab": {
          "base_uri": "https://localhost:8080/",
          "height": 206
        }
      },
      "execution_count": 17,
      "outputs": [
        {
          "output_type": "execute_result",
          "data": {
            "text/plain": [
              "             id    host_id  latitude  longitude  minimum_nights  \\\n",
              "14219   9778579   50411330  40.71504  -73.98879               1   \n",
              "35050  16738648   24626134  40.75329  -73.98880               2   \n",
              "15718  23771352   25705033  40.70604  -73.93802               2   \n",
              "17208  27190005  204733512  40.76087  -73.88375               3   \n",
              "7383    6042635   31358851  40.85882  -73.92897               4   \n",
              "\n",
              "       number_of_reviews  reviews_per_month  calculated_host_listings_count  \\\n",
              "14219                  2               0.05                               1   \n",
              "35050                  1               0.03                               1   \n",
              "15718                  1               0.07                               1   \n",
              "17208                 19               1.67                               2   \n",
              "7383                  38               0.79                               1   \n",
              "\n",
              "       availability_365  \n",
              "14219                 0  \n",
              "35050                 0  \n",
              "15718                 0  \n",
              "17208                 0  \n",
              "7383                307  "
            ],
            "text/html": [
              "\n",
              "  <div id=\"df-0432d110-9025-4456-b6a9-c4a6e6923a4d\" class=\"colab-df-container\">\n",
              "    <div>\n",
              "<style scoped>\n",
              "    .dataframe tbody tr th:only-of-type {\n",
              "        vertical-align: middle;\n",
              "    }\n",
              "\n",
              "    .dataframe tbody tr th {\n",
              "        vertical-align: top;\n",
              "    }\n",
              "\n",
              "    .dataframe thead th {\n",
              "        text-align: right;\n",
              "    }\n",
              "</style>\n",
              "<table border=\"1\" class=\"dataframe\">\n",
              "  <thead>\n",
              "    <tr style=\"text-align: right;\">\n",
              "      <th></th>\n",
              "      <th>id</th>\n",
              "      <th>host_id</th>\n",
              "      <th>latitude</th>\n",
              "      <th>longitude</th>\n",
              "      <th>minimum_nights</th>\n",
              "      <th>number_of_reviews</th>\n",
              "      <th>reviews_per_month</th>\n",
              "      <th>calculated_host_listings_count</th>\n",
              "      <th>availability_365</th>\n",
              "    </tr>\n",
              "  </thead>\n",
              "  <tbody>\n",
              "    <tr>\n",
              "      <th>14219</th>\n",
              "      <td>9778579</td>\n",
              "      <td>50411330</td>\n",
              "      <td>40.71504</td>\n",
              "      <td>-73.98879</td>\n",
              "      <td>1</td>\n",
              "      <td>2</td>\n",
              "      <td>0.05</td>\n",
              "      <td>1</td>\n",
              "      <td>0</td>\n",
              "    </tr>\n",
              "    <tr>\n",
              "      <th>35050</th>\n",
              "      <td>16738648</td>\n",
              "      <td>24626134</td>\n",
              "      <td>40.75329</td>\n",
              "      <td>-73.98880</td>\n",
              "      <td>2</td>\n",
              "      <td>1</td>\n",
              "      <td>0.03</td>\n",
              "      <td>1</td>\n",
              "      <td>0</td>\n",
              "    </tr>\n",
              "    <tr>\n",
              "      <th>15718</th>\n",
              "      <td>23771352</td>\n",
              "      <td>25705033</td>\n",
              "      <td>40.70604</td>\n",
              "      <td>-73.93802</td>\n",
              "      <td>2</td>\n",
              "      <td>1</td>\n",
              "      <td>0.07</td>\n",
              "      <td>1</td>\n",
              "      <td>0</td>\n",
              "    </tr>\n",
              "    <tr>\n",
              "      <th>17208</th>\n",
              "      <td>27190005</td>\n",
              "      <td>204733512</td>\n",
              "      <td>40.76087</td>\n",
              "      <td>-73.88375</td>\n",
              "      <td>3</td>\n",
              "      <td>19</td>\n",
              "      <td>1.67</td>\n",
              "      <td>2</td>\n",
              "      <td>0</td>\n",
              "    </tr>\n",
              "    <tr>\n",
              "      <th>7383</th>\n",
              "      <td>6042635</td>\n",
              "      <td>31358851</td>\n",
              "      <td>40.85882</td>\n",
              "      <td>-73.92897</td>\n",
              "      <td>4</td>\n",
              "      <td>38</td>\n",
              "      <td>0.79</td>\n",
              "      <td>1</td>\n",
              "      <td>307</td>\n",
              "    </tr>\n",
              "  </tbody>\n",
              "</table>\n",
              "</div>\n",
              "    <div class=\"colab-df-buttons\">\n",
              "\n",
              "  <div class=\"colab-df-container\">\n",
              "    <button class=\"colab-df-convert\" onclick=\"convertToInteractive('df-0432d110-9025-4456-b6a9-c4a6e6923a4d')\"\n",
              "            title=\"Convert this dataframe to an interactive table.\"\n",
              "            style=\"display:none;\">\n",
              "\n",
              "  <svg xmlns=\"http://www.w3.org/2000/svg\" height=\"24px\" viewBox=\"0 -960 960 960\">\n",
              "    <path d=\"M120-120v-720h720v720H120Zm60-500h600v-160H180v160Zm220 220h160v-160H400v160Zm0 220h160v-160H400v160ZM180-400h160v-160H180v160Zm440 0h160v-160H620v160ZM180-180h160v-160H180v160Zm440 0h160v-160H620v160Z\"/>\n",
              "  </svg>\n",
              "    </button>\n",
              "\n",
              "  <style>\n",
              "    .colab-df-container {\n",
              "      display:flex;\n",
              "      gap: 12px;\n",
              "    }\n",
              "\n",
              "    .colab-df-convert {\n",
              "      background-color: #E8F0FE;\n",
              "      border: none;\n",
              "      border-radius: 50%;\n",
              "      cursor: pointer;\n",
              "      display: none;\n",
              "      fill: #1967D2;\n",
              "      height: 32px;\n",
              "      padding: 0 0 0 0;\n",
              "      width: 32px;\n",
              "    }\n",
              "\n",
              "    .colab-df-convert:hover {\n",
              "      background-color: #E2EBFA;\n",
              "      box-shadow: 0px 1px 2px rgba(60, 64, 67, 0.3), 0px 1px 3px 1px rgba(60, 64, 67, 0.15);\n",
              "      fill: #174EA6;\n",
              "    }\n",
              "\n",
              "    .colab-df-buttons div {\n",
              "      margin-bottom: 4px;\n",
              "    }\n",
              "\n",
              "    [theme=dark] .colab-df-convert {\n",
              "      background-color: #3B4455;\n",
              "      fill: #D2E3FC;\n",
              "    }\n",
              "\n",
              "    [theme=dark] .colab-df-convert:hover {\n",
              "      background-color: #434B5C;\n",
              "      box-shadow: 0px 1px 3px 1px rgba(0, 0, 0, 0.15);\n",
              "      filter: drop-shadow(0px 1px 2px rgba(0, 0, 0, 0.3));\n",
              "      fill: #FFFFFF;\n",
              "    }\n",
              "  </style>\n",
              "\n",
              "    <script>\n",
              "      const buttonEl =\n",
              "        document.querySelector('#df-0432d110-9025-4456-b6a9-c4a6e6923a4d button.colab-df-convert');\n",
              "      buttonEl.style.display =\n",
              "        google.colab.kernel.accessAllowed ? 'block' : 'none';\n",
              "\n",
              "      async function convertToInteractive(key) {\n",
              "        const element = document.querySelector('#df-0432d110-9025-4456-b6a9-c4a6e6923a4d');\n",
              "        const dataTable =\n",
              "          await google.colab.kernel.invokeFunction('convertToInteractive',\n",
              "                                                    [key], {});\n",
              "        if (!dataTable) return;\n",
              "\n",
              "        const docLinkHtml = 'Like what you see? Visit the ' +\n",
              "          '<a target=\"_blank\" href=https://colab.research.google.com/notebooks/data_table.ipynb>data table notebook</a>'\n",
              "          + ' to learn more about interactive tables.';\n",
              "        element.innerHTML = '';\n",
              "        dataTable['output_type'] = 'display_data';\n",
              "        await google.colab.output.renderOutput(dataTable, element);\n",
              "        const docLink = document.createElement('div');\n",
              "        docLink.innerHTML = docLinkHtml;\n",
              "        element.appendChild(docLink);\n",
              "      }\n",
              "    </script>\n",
              "  </div>\n",
              "\n",
              "\n",
              "<div id=\"df-b4740a9f-92d3-44a2-9997-c2f2dc1c1589\">\n",
              "  <button class=\"colab-df-quickchart\" onclick=\"quickchart('df-b4740a9f-92d3-44a2-9997-c2f2dc1c1589')\"\n",
              "            title=\"Suggest charts\"\n",
              "            style=\"display:none;\">\n",
              "\n",
              "<svg xmlns=\"http://www.w3.org/2000/svg\" height=\"24px\"viewBox=\"0 0 24 24\"\n",
              "     width=\"24px\">\n",
              "    <g>\n",
              "        <path d=\"M19 3H5c-1.1 0-2 .9-2 2v14c0 1.1.9 2 2 2h14c1.1 0 2-.9 2-2V5c0-1.1-.9-2-2-2zM9 17H7v-7h2v7zm4 0h-2V7h2v10zm4 0h-2v-4h2v4z\"/>\n",
              "    </g>\n",
              "</svg>\n",
              "  </button>\n",
              "\n",
              "<style>\n",
              "  .colab-df-quickchart {\n",
              "      --bg-color: #E8F0FE;\n",
              "      --fill-color: #1967D2;\n",
              "      --hover-bg-color: #E2EBFA;\n",
              "      --hover-fill-color: #174EA6;\n",
              "      --disabled-fill-color: #AAA;\n",
              "      --disabled-bg-color: #DDD;\n",
              "  }\n",
              "\n",
              "  [theme=dark] .colab-df-quickchart {\n",
              "      --bg-color: #3B4455;\n",
              "      --fill-color: #D2E3FC;\n",
              "      --hover-bg-color: #434B5C;\n",
              "      --hover-fill-color: #FFFFFF;\n",
              "      --disabled-bg-color: #3B4455;\n",
              "      --disabled-fill-color: #666;\n",
              "  }\n",
              "\n",
              "  .colab-df-quickchart {\n",
              "    background-color: var(--bg-color);\n",
              "    border: none;\n",
              "    border-radius: 50%;\n",
              "    cursor: pointer;\n",
              "    display: none;\n",
              "    fill: var(--fill-color);\n",
              "    height: 32px;\n",
              "    padding: 0;\n",
              "    width: 32px;\n",
              "  }\n",
              "\n",
              "  .colab-df-quickchart:hover {\n",
              "    background-color: var(--hover-bg-color);\n",
              "    box-shadow: 0 1px 2px rgba(60, 64, 67, 0.3), 0 1px 3px 1px rgba(60, 64, 67, 0.15);\n",
              "    fill: var(--button-hover-fill-color);\n",
              "  }\n",
              "\n",
              "  .colab-df-quickchart-complete:disabled,\n",
              "  .colab-df-quickchart-complete:disabled:hover {\n",
              "    background-color: var(--disabled-bg-color);\n",
              "    fill: var(--disabled-fill-color);\n",
              "    box-shadow: none;\n",
              "  }\n",
              "\n",
              "  .colab-df-spinner {\n",
              "    border: 2px solid var(--fill-color);\n",
              "    border-color: transparent;\n",
              "    border-bottom-color: var(--fill-color);\n",
              "    animation:\n",
              "      spin 1s steps(1) infinite;\n",
              "  }\n",
              "\n",
              "  @keyframes spin {\n",
              "    0% {\n",
              "      border-color: transparent;\n",
              "      border-bottom-color: var(--fill-color);\n",
              "      border-left-color: var(--fill-color);\n",
              "    }\n",
              "    20% {\n",
              "      border-color: transparent;\n",
              "      border-left-color: var(--fill-color);\n",
              "      border-top-color: var(--fill-color);\n",
              "    }\n",
              "    30% {\n",
              "      border-color: transparent;\n",
              "      border-left-color: var(--fill-color);\n",
              "      border-top-color: var(--fill-color);\n",
              "      border-right-color: var(--fill-color);\n",
              "    }\n",
              "    40% {\n",
              "      border-color: transparent;\n",
              "      border-right-color: var(--fill-color);\n",
              "      border-top-color: var(--fill-color);\n",
              "    }\n",
              "    60% {\n",
              "      border-color: transparent;\n",
              "      border-right-color: var(--fill-color);\n",
              "    }\n",
              "    80% {\n",
              "      border-color: transparent;\n",
              "      border-right-color: var(--fill-color);\n",
              "      border-bottom-color: var(--fill-color);\n",
              "    }\n",
              "    90% {\n",
              "      border-color: transparent;\n",
              "      border-bottom-color: var(--fill-color);\n",
              "    }\n",
              "  }\n",
              "</style>\n",
              "\n",
              "  <script>\n",
              "    async function quickchart(key) {\n",
              "      const quickchartButtonEl =\n",
              "        document.querySelector('#' + key + ' button');\n",
              "      quickchartButtonEl.disabled = true;  // To prevent multiple clicks.\n",
              "      quickchartButtonEl.classList.add('colab-df-spinner');\n",
              "      try {\n",
              "        const charts = await google.colab.kernel.invokeFunction(\n",
              "            'suggestCharts', [key], {});\n",
              "      } catch (error) {\n",
              "        console.error('Error during call to suggestCharts:', error);\n",
              "      }\n",
              "      quickchartButtonEl.classList.remove('colab-df-spinner');\n",
              "      quickchartButtonEl.classList.add('colab-df-quickchart-complete');\n",
              "    }\n",
              "    (() => {\n",
              "      let quickchartButtonEl =\n",
              "        document.querySelector('#df-b4740a9f-92d3-44a2-9997-c2f2dc1c1589 button');\n",
              "      quickchartButtonEl.style.display =\n",
              "        google.colab.kernel.accessAllowed ? 'block' : 'none';\n",
              "    })();\n",
              "  </script>\n",
              "</div>\n",
              "\n",
              "    </div>\n",
              "  </div>\n"
            ],
            "application/vnd.google.colaboratory.intrinsic+json": {
              "type": "dataframe",
              "variable_name": "xval",
              "summary": "{\n  \"name\": \"xval\",\n  \"rows\": 3912,\n  \"fields\": [\n    {\n      \"column\": \"id\",\n      \"properties\": {\n        \"dtype\": \"number\",\n        \"std\": 11030939,\n        \"min\": 5295,\n        \"max\": 36487245,\n        \"num_unique_values\": 3912,\n        \"samples\": [\n          4946624,\n          20025456,\n          27552582\n        ],\n        \"semantic_type\": \"\",\n        \"description\": \"\"\n      }\n    },\n    {\n      \"column\": \"host_id\",\n      \"properties\": {\n        \"dtype\": \"number\",\n        \"std\": 77479719,\n        \"min\": 2787,\n        \"max\": 274103383,\n        \"num_unique_values\": 3662,\n        \"samples\": [\n          8523970,\n          45225936,\n          5555793\n        ],\n        \"semantic_type\": \"\",\n        \"description\": \"\"\n      }\n    },\n    {\n      \"column\": \"latitude\",\n      \"properties\": {\n        \"dtype\": \"number\",\n        \"std\": 0.05433464346771914,\n        \"min\": 40.56251,\n        \"max\": 40.90804,\n        \"num_unique_values\": 3526,\n        \"samples\": [\n          40.73618,\n          40.70575,\n          40.76655\n        ],\n        \"semantic_type\": \"\",\n        \"description\": \"\"\n      }\n    },\n    {\n      \"column\": \"longitude\",\n      \"properties\": {\n        \"dtype\": \"number\",\n        \"std\": 0.045179525956171585,\n        \"min\": -74.14780999999999,\n        \"max\": -73.7274,\n        \"num_unique_values\": 3321,\n        \"samples\": [\n          -73.94234,\n          -73.96030999999999,\n          -73.92142\n        ],\n        \"semantic_type\": \"\",\n        \"description\": \"\"\n      }\n    },\n    {\n      \"column\": \"minimum_nights\",\n      \"properties\": {\n        \"dtype\": \"number\",\n        \"std\": 24,\n        \"min\": 1,\n        \"max\": 999,\n        \"num_unique_values\": 46,\n        \"samples\": [\n          999,\n          55,\n          181\n        ],\n        \"semantic_type\": \"\",\n        \"description\": \"\"\n      }\n    },\n    {\n      \"column\": \"number_of_reviews\",\n      \"properties\": {\n        \"dtype\": \"number\",\n        \"std\": 46,\n        \"min\": 0,\n        \"max\": 540,\n        \"num_unique_values\": 223,\n        \"samples\": [\n          15,\n          141,\n          138\n        ],\n        \"semantic_type\": \"\",\n        \"description\": \"\"\n      }\n    },\n    {\n      \"column\": \"reviews_per_month\",\n      \"properties\": {\n        \"dtype\": \"number\",\n        \"std\": 1.6102380009925323,\n        \"min\": 0.0,\n        \"max\": 19.75,\n        \"num_unique_values\": 544,\n        \"samples\": [\n          3.54,\n          3.96,\n          5.65\n        ],\n        \"semantic_type\": \"\",\n        \"description\": \"\"\n      }\n    },\n    {\n      \"column\": \"calculated_host_listings_count\",\n      \"properties\": {\n        \"dtype\": \"number\",\n        \"std\": 34,\n        \"min\": 1,\n        \"max\": 327,\n        \"num_unique_values\": 47,\n        \"samples\": [\n          12,\n          50,\n          34\n        ],\n        \"semantic_type\": \"\",\n        \"description\": \"\"\n      }\n    },\n    {\n      \"column\": \"availability_365\",\n      \"properties\": {\n        \"dtype\": \"number\",\n        \"std\": 130,\n        \"min\": 0,\n        \"max\": 365,\n        \"num_unique_values\": 361,\n        \"samples\": [\n          8,\n          141,\n          19\n        ],\n        \"semantic_type\": \"\",\n        \"description\": \"\"\n      }\n    }\n  ]\n}"
            }
          },
          "metadata": {},
          "execution_count": 17
        }
      ]
    },
    {
      "cell_type": "code",
      "source": [
        "ytr.head()"
      ],
      "metadata": {
        "id": "kjXZOm2sCY1Y",
        "outputId": "5e75d2ba-d384-4b3b-9b35-af351c5a73ff",
        "colab": {
          "base_uri": "https://localhost:8080/"
        }
      },
      "execution_count": 18,
      "outputs": [
        {
          "output_type": "execute_result",
          "data": {
            "text/plain": [
              "23954    110\n",
              "9008      75\n",
              "17282     84\n",
              "21083     70\n",
              "15725     95\n",
              "Name: price, dtype: int64"
            ]
          },
          "metadata": {},
          "execution_count": 18
        }
      ]
    },
    {
      "cell_type": "code",
      "source": [
        "yval.head()"
      ],
      "metadata": {
        "id": "0p5EgKbVCakD",
        "outputId": "5129d5a8-1331-4e4d-f456-28dc59efc338",
        "colab": {
          "base_uri": "https://localhost:8080/"
        }
      },
      "execution_count": 19,
      "outputs": [
        {
          "output_type": "execute_result",
          "data": {
            "text/plain": [
              "14219     45\n",
              "35050     30\n",
              "15718    190\n",
              "17208     45\n",
              "7383      65\n",
              "Name: price, dtype: int64"
            ]
          },
          "metadata": {},
          "execution_count": 19
        }
      ]
    },
    {
      "cell_type": "markdown",
      "source": [
        "## 모델 & 평가"
      ],
      "metadata": {
        "id": "6zrIYRkcDN4j"
      }
    },
    {
      "cell_type": "code",
      "source": [
        "import numpy as np\n",
        "from sklearn.metrics import r2_score, mean_absolute_error, mean_squared_error\n",
        "\n",
        "#RMSE\n",
        "def rmse(ytest, ypred):\n",
        "    return np.sqrt(mean_squared_error(ytest, ypred))\n",
        "\n",
        "#RMSLE\n",
        "def rmsle(ytest, ypred):\n",
        "    return np.sqrt(np.mean(no.power(np.log1p(ytest)-np.log1p(ypred),2)))\n",
        "\n",
        "#MAPE\n",
        "def mape(ytest, ypred):\n",
        "    return np.mean(np.abs((ytest-ypred)/ytest))*100\n"
      ],
      "metadata": {
        "id": "X47rUpFtxMuC"
      },
      "execution_count": 22,
      "outputs": []
    },
    {
      "cell_type": "code",
      "source": [
        "from sklearn.me"
      ],
      "metadata": {
        "id": "3I1wwxQqx6pD"
      },
      "execution_count": null,
      "outputs": []
    },
    {
      "cell_type": "code",
      "source": [
        "# 평가\n",
        "import numpy as np\n",
        "from sklearn.metrics import r2_score, mean_absolute_error, mean_squared_error\n",
        "def rmse(y_test, y_pred): #RMSE\n",
        "    return np.sqrt(mean_squared_error(y_test, y_pred))\n",
        "\n",
        "def rmsle(y_test, y_pred): #RMSLE\n",
        "    return np.sqrt(np.mean(np.power(np.log1p(y_test) - np.log1p(y_pred), 2)))\n",
        "\n",
        "def mape(y_test, y_pred): #MAPE\n",
        "    return np.mean(np.abs((y_test - y_pred) / y_test)) * 100"
      ],
      "metadata": {
        "id": "nG0HR27zOkW5"
      },
      "execution_count": 20,
      "outputs": []
    },
    {
      "cell_type": "code",
      "source": [],
      "metadata": {
        "id": "UBjzNyKpQY3p"
      },
      "execution_count": 20,
      "outputs": []
    },
    {
      "cell_type": "code",
      "source": [],
      "metadata": {
        "id": "wdPc5qIjPAHW"
      },
      "execution_count": 20,
      "outputs": []
    },
    {
      "cell_type": "code",
      "source": [],
      "metadata": {
        "id": "VXPpAghtPALJ"
      },
      "execution_count": 20,
      "outputs": []
    },
    {
      "cell_type": "code",
      "source": [],
      "metadata": {
        "id": "vGK-shoSPAN4"
      },
      "execution_count": 20,
      "outputs": []
    },
    {
      "cell_type": "code",
      "source": [],
      "metadata": {
        "id": "bv73gQjuUyU-"
      },
      "execution_count": 20,
      "outputs": []
    },
    {
      "cell_type": "markdown",
      "source": [
        "## 예측 및 csv 제출"
      ],
      "metadata": {
        "id": "vENsjupLDUF9"
      }
    },
    {
      "cell_type": "code",
      "source": [],
      "metadata": {
        "id": "0-ycPId6ni4q"
      },
      "execution_count": 20,
      "outputs": []
    },
    {
      "cell_type": "code",
      "source": [],
      "metadata": {
        "id": "mCrS14SE_fS9"
      },
      "execution_count": 20,
      "outputs": []
    },
    {
      "cell_type": "code",
      "source": [],
      "metadata": {
        "id": "S33nhYTnTkG2"
      },
      "execution_count": 20,
      "outputs": []
    },
    {
      "cell_type": "code",
      "source": [],
      "metadata": {
        "id": "SnYJTfZ__UFR"
      },
      "execution_count": 20,
      "outputs": []
    },
    {
      "cell_type": "code",
      "source": [],
      "metadata": {
        "id": "bj6NRM1d_7Rl"
      },
      "execution_count": 20,
      "outputs": []
    },
    {
      "cell_type": "markdown",
      "source": [
        "##정리"
      ],
      "metadata": {
        "id": "CeJ_BK2KDX6Z"
      }
    },
    {
      "cell_type": "code",
      "source": [
        "# y_test = pd.read_csv(\"y_test.csv\")\n",
        "# print(r2_score(y_test, pred))"
      ],
      "metadata": {
        "id": "7VV1wp7zPkUA"
      },
      "execution_count": 21,
      "outputs": []
    }
  ]
}